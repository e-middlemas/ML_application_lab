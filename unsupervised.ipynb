{
 "cells": [
  {
   "cell_type": "markdown",
   "metadata": {},
   "source": [
    "# Intro to Machine Learning with Meteorological Station Data: Part 1"
   ]
  },
  {
   "cell_type": "markdown",
   "metadata": {},
   "source": [
    "The overarching goal of Parts 1 and 2 of the ML application lab is to become familiar with the limits and applicability of a variety of Machine Learning tools."
   ]
  },
  {
   "cell_type": "markdown",
   "metadata": {},
   "source": [
    "Part 1) __Unsupervised Learning *(this notebook)*: Grouping events into different categories__ \n",
    "<br> Can we use K-means clustering to detect the seasons in the christman dataset? <br>"
   ]
  },
  {
   "cell_type": "markdown",
   "metadata": {},
   "source": [
    "__The goals of Part 1 of this Application Lab are to:__<br>\n",
    "1) Learn how to utilize an unsupervised learning technique (K-means) to look for patterns in a dataset.<br>\n",
    "2) Become familiar with the sensitivity of K-means to standardization, changing the input data and K.<br>\n",
    "3) Understand at least one application of an unsupervised learning technique: data exploration & pattern recognition.<br>"
   ]
  },
  {
   "cell_type": "markdown",
   "metadata": {},
   "source": [
    "# K-Means clustering"
   ]
  },
  {
   "cell_type": "markdown",
   "metadata": {},
   "source": [
    "In the first part of this application lab, we will use [K-means clustering](https://en.wikipedia.org/wiki/K-means_clustering) to see if the algorithm can separate some data into different seasons. This may seem trivial, because we clearly already know which observations are in which season. But the goal is for you to understand how the algorithm works and its limitations.<br><br>\n",
    "\n",
    "![k-means_image](./images/kmeans_image.png)"
   ]
  },
  {
   "cell_type": "markdown",
   "metadata": {},
   "source": [
    "# Part 0. Read in data into a pandas dataframe."
   ]
  },
  {
   "cell_type": "code",
   "execution_count": null,
   "metadata": {},
   "outputs": [],
   "source": [
    "import pandas as pd\n",
    "import numpy as np\n",
    "import datetime"
   ]
  },
  {
   "cell_type": "markdown",
   "metadata": {},
   "source": [
    "Read in the data."
   ]
  },
  {
   "cell_type": "code",
   "execution_count": null,
   "metadata": {},
   "outputs": [],
   "source": [
    "df = pd.read_csv(\"./christman_2016.csv\")\n",
    "# preview data (also through df.head() & df.tail())\n",
    "df"
   ]
  },
  {
   "cell_type": "markdown",
   "metadata": {},
   "source": [
    "## Deal with the time dimension"
   ]
  },
  {
   "cell_type": "markdown",
   "metadata": {},
   "source": [
    "How many days are in this dataset?"
   ]
  },
  {
   "cell_type": "code",
   "execution_count": null,
   "metadata": {},
   "outputs": [],
   "source": [
    "df.day.nunique()"
   ]
  },
  {
   "cell_type": "markdown",
   "metadata": {},
   "source": [
    "__Optional__: transform the day column into a readable date. Can only run once successfully."
   ]
  },
  {
   "cell_type": "code",
   "execution_count": null,
   "metadata": {},
   "outputs": [],
   "source": [
    "df['day'] = [datetime.date.fromordinal(day+693594) for day in df['day']]"
   ]
  },
  {
   "cell_type": "markdown",
   "metadata": {},
   "source": [
    "---------------------------------------------"
   ]
  },
  {
   "cell_type": "markdown",
   "metadata": {},
   "source": [
    "# Part 1. Unsupervised learning \n",
    "#### *Using K-means to look for patterns in the data*"
   ]
  },
  {
   "cell_type": "code",
   "execution_count": null,
   "metadata": {},
   "outputs": [],
   "source": [
    "from scipy.cluster.vq import vq, kmeans, whiten\n",
    "import matplotlib.pyplot as plt"
   ]
  },
  {
   "cell_type": "markdown",
   "metadata": {},
   "source": [
    "Only select noons, or when hour is equal to 0.5."
   ]
  },
  {
   "cell_type": "code",
   "execution_count": null,
   "metadata": {},
   "outputs": [],
   "source": [
    "noondf = df[df.hour==0.5]\n",
    "#noondf = df # try selecting all data instead of just noon data"
   ]
  },
  {
   "cell_type": "markdown",
   "metadata": {},
   "source": [
    "Convert to numpy array for model input, leaving out the time dimensions day & hour, and wind directions."
   ]
  },
  {
   "cell_type": "code",
   "execution_count": null,
   "metadata": {},
   "outputs": [],
   "source": [
    "included_cols = ['temp_F','RH','dewtemp_F','wind_mph','windgust','pres_Hg','SOLIN_Wm2','Prec_inches'] # original input\n",
    "#included_cols = ['temp_F','RH','dewtemp_F','wind_mph','windgust','pres_Hg','Prec_inches'] # try removing insolation as a feature\n",
    "data = noondf.loc[:, noondf.columns.isin(list(included_cols))].to_numpy()\n",
    "np.shape(data)"
   ]
  },
  {
   "cell_type": "markdown",
   "metadata": {},
   "source": [
    "      \n",
    "     "
   ]
  },
  {
   "cell_type": "markdown",
   "metadata": {},
   "source": [
    "## Standardize or normalize data"
   ]
  },
  {
   "cell_type": "markdown",
   "metadata": {},
   "source": [
    "Since clustering among features depends on distance, we need to standardize all of our features so that variance across features is equal. We don't want the clustering to be dominated by the feature with the largest variance. "
   ]
  },
  {
   "cell_type": "code",
   "execution_count": null,
   "metadata": {},
   "outputs": [],
   "source": [
    "normal_data = whiten(data) # sci-kit learn's normalization feature in the clustering toolbox\n",
    "#normal_data = data # can uncomment this to avoid normalization\n",
    "np.shape(normal_data) # great, we end up with the same shape as our original data."
   ]
  },
  {
   "cell_type": "markdown",
   "metadata": {},
   "source": [
    "There are 366 observations over 8 variables, or \"features\", as they're called in the ML world."
   ]
  },
  {
   "cell_type": "markdown",
   "metadata": {},
   "source": [
    "## Look for patterns with k-means"
   ]
  },
  {
   "cell_type": "code",
   "execution_count": null,
   "metadata": {},
   "outputs": [],
   "source": [
    "NO_CLUSTERS = 2 # 2 for separating cold & warm seasons, 4 for separating into all four seasons\n",
    "centroids, _  = kmeans(normal_data,NO_CLUSTERS,iter=20)\n",
    "idx, _ = vq(normal_data,centroids) # returns season for each observation\n",
    "print(idx) # prints K-mean's season label for each day in the year (Jan - December 2016)"
   ]
  },
  {
   "cell_type": "markdown",
   "metadata": {},
   "source": [
    "Create a few xy scatter plots, where points are colored by season (which we know), and each k-means-determined centroid is in a black dot overlaid."
   ]
  },
  {
   "cell_type": "code",
   "execution_count": null,
   "metadata": {},
   "outputs": [],
   "source": [
    "vars2plot = ['temp_F','pres_Hg'] # format (x, y)\n",
    "# You may also try plotting different variables. Just ensure they are listed \n",
    "# in \"included_cols\" in the cell above.\n",
    "\n",
    "plt.figure(figsize=(10,6))\n",
    "data2plot = [data[:,included_cols.index(var)] for var in vars2plot]\n",
    "plt.plot(data2plot[0],data2plot[1],'.',markersize = 8)\n",
    "plt.xlabel(vars2plot[0],fontsize=18)\n",
    "plt.ylabel(vars2plot[1],fontsize=18)\n",
    "\n",
    "yvals = plt.ylim()\n",
    "xvals = plt.xlim()\n",
    "\n",
    "plt.title('Original Data',fontsize=22)\n",
    "plt.show()"
   ]
  },
  {
   "cell_type": "code",
   "execution_count": null,
   "metadata": {},
   "outputs": [],
   "source": [
    "cols = ['red','blue','green','orange']\n",
    "\n",
    "plt.figure(figsize=(10,6))\n",
    "plt.title(str(NO_CLUSTERS) + ' Clusters',fontsize=22)\n",
    "for (ind,val) in enumerate(np.transpose(data2plot)):\n",
    "    plt.plot(val[0],val[1],\".\", color=cols[idx[ind]], markersize=8, markerfacecolor = 'none')\n",
    "\n",
    "plt.xticks()\n",
    "plt.yticks()\n",
    "\n",
    "plt.xlabel(vars2plot[0],fontsize=18);\n",
    "plt.ylabel(vars2plot[1],fontsize=18);"
   ]
  },
  {
   "cell_type": "markdown",
   "metadata": {},
   "source": [
    "## Unsupervised Learning Questions:"
   ]
  },
  {
   "cell_type": "code",
   "execution_count": null,
   "metadata": {},
   "outputs": [],
   "source": [
    "from solutions import unsupervised"
   ]
  },
  {
   "cell_type": "markdown",
   "metadata": {},
   "source": [
    "1. __Do a quick search online for the definition of a \"centroid\" for K-means clustering. What is a centroid?__"
   ]
  },
  {
   "cell_type": "code",
   "execution_count": null,
   "metadata": {},
   "outputs": [],
   "source": [
    "unsupervised.answer1()"
   ]
  },
  {
   "cell_type": "markdown",
   "metadata": {},
   "source": [
    "2. __What would happen if you didn't select only daily data, but instead included hourly data?__"
   ]
  },
  {
   "cell_type": "code",
   "execution_count": null,
   "metadata": {},
   "outputs": [],
   "source": [
    "unsupervised.answer2()"
   ]
  },
  {
   "cell_type": "markdown",
   "metadata": {},
   "source": [
    "3. __What happens when you don't standardize the data beforehand? Why should you standardize the data?__"
   ]
  },
  {
   "cell_type": "code",
   "execution_count": null,
   "metadata": {},
   "outputs": [],
   "source": [
    "unsupervised.answer3()"
   ]
  },
  {
   "cell_type": "markdown",
   "metadata": {},
   "source": [
    "4. __What happens when you change the number of clusters from two to four? Why do you think the algorithm yields different results?__"
   ]
  },
  {
   "cell_type": "code",
   "execution_count": null,
   "metadata": {},
   "outputs": [],
   "source": [
    "unsupervised.answer4()"
   ]
  },
  {
   "cell_type": "markdown",
   "metadata": {},
   "source": [
    "5. __What happens when you remove certain features? Does the model perform better or worse at detecting seasons?__"
   ]
  },
  {
   "cell_type": "code",
   "execution_count": null,
   "metadata": {},
   "outputs": [],
   "source": [
    "unsupervised.answer5()"
   ]
  }
 ],
 "metadata": {
  "kernelspec": {
   "display_name": "objanalysis_ML",
   "language": "python",
   "name": "objanalysis_ml"
  },
  "language_info": {
   "codemirror_mode": {
    "name": "ipython",
    "version": 3
   },
   "file_extension": ".py",
   "mimetype": "text/x-python",
   "name": "python",
   "nbconvert_exporter": "python",
   "pygments_lexer": "ipython3",
   "version": "3.7.8"
  }
 },
 "nbformat": 4,
 "nbformat_minor": 4
}
